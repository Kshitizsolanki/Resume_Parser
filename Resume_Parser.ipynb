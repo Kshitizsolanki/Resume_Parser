{
 "cells": [
  {
   "cell_type": "code",
   "execution_count": 1,
   "id": "a8aa8493",
   "metadata": {},
   "outputs": [],
   "source": [
    "import spacy\n",
    "from sklearn.feature_extraction.text import TfidfVectorizer\n",
    "from sklearn.metrics.pairwise import cosine_similarity\n",
    "import docx\n",
    "import PyPDF2\n",
    "import pdfplumber"
   ]
  },
  {
   "cell_type": "code",
   "execution_count": 2,
   "id": "85e63965",
   "metadata": {},
   "outputs": [],
   "source": [
    "# Load English language model for spaCy\n",
    "nlp = spacy.load(\"en_core_web_sm\")\n",
    "\n",
    "def preprocess_resume(text):\n",
    "    return text"
   ]
  },
  {
   "cell_type": "code",
   "execution_count": 3,
   "id": "63b0a08e",
   "metadata": {},
   "outputs": [],
   "source": [
    "def extract_entities(text):\n",
    "    doc = nlp(text)\n",
    "    entities = {\n",
    "        \"skills\": [],\n",
    "        \"experience\": [],\n",
    "        \"education\": [],\n",
    "        \"certifications\": []\n",
    "    }\n",
    "    for ent in doc.ents:\n",
    "        if ent.label_ == \"SKILL\":\n",
    "            entities[\"skills\"].append(ent.text)\n",
    "        elif ent.label_ == \"DATE\" and \"experience\" in ent.text.lower():\n",
    "            entities[\"experience\"].append(ent.text)\n",
    "        elif ent.label_ == \"EDUCATION\":\n",
    "            entities[\"education\"].append(ent.text)\n",
    "        elif ent.label_ == \"CERTIFICATION\":\n",
    "            entities[\"certifications\"].append(ent.text)\n",
    "    return entities"
   ]
  },
  {
   "cell_type": "code",
   "execution_count": 4,
   "id": "c778ca82",
   "metadata": {},
   "outputs": [],
   "source": [
    "def rank_resumes(resumes, job_description):\n",
    "    job_description = preprocess_resume(job_description)\n",
    "    vectorizer = TfidfVectorizer()\n",
    "    job_vector = vectorizer.fit_transform([job_description])\n",
    "\n",
    "    ranked_resumes = []\n",
    "    for resume in resumes:\n",
    "        resume = preprocess_resume(resume)\n",
    "        resume_vector = vectorizer.transform([resume])\n",
    "        similarity_score = cosine_similarity(job_vector, resume_vector)[0][0]\n",
    "        ranked_resumes.append((resume, similarity_score))\n",
    "\n",
    "    ranked_resumes.sort(key=lambda x: x[1], reverse=True)\n",
    "    return ranked_resumes"
   ]
  },
  {
   "cell_type": "code",
   "execution_count": 5,
   "id": "a7f12361",
   "metadata": {},
   "outputs": [],
   "source": [
    "def read_text_file(file_path):\n",
    "    with open(file_path, 'r', encoding='utf-8') as file:\n",
    "        return file.read()"
   ]
  },
  {
   "cell_type": "code",
   "execution_count": 6,
   "id": "e4432047",
   "metadata": {},
   "outputs": [],
   "source": [
    "def read_docx(file_path):\n",
    "    doc = docx.Document(file_path)\n",
    "    text = [para.text for para in doc.paragraphs]\n",
    "    return '\\n'.join(text)"
   ]
  },
  {
   "cell_type": "code",
   "execution_count": 7,
   "id": "6836e3e2",
   "metadata": {},
   "outputs": [],
   "source": [
    "def read_pdf(file_path):\n",
    "    with open(file_path, 'rb') as f:\n",
    "        reader = PyPDF2.PdfFileReader(f)\n",
    "        text = [reader.getPage(page_num).extractText() for page_num in range(reader.numPages)]\n",
    "        return '\\n'.join(text)"
   ]
  },
  {
   "cell_type": "code",
   "execution_count": 8,
   "id": "86441265",
   "metadata": {},
   "outputs": [],
   "source": [
    "def read_pdfplumber(file_path):\n",
    "    with pdfplumber.open(file_path) as pdf:\n",
    "        text = [page.extract_text() for page in pdf.pages]\n",
    "        return '\\n'.join(text)"
   ]
  },
  {
   "cell_type": "code",
   "execution_count": 9,
   "id": "4798dc2e",
   "metadata": {},
   "outputs": [],
   "source": [
    "def read_resume(file_path):\n",
    "    if file_path.endswith('.txt'):\n",
    "        return read_text_file(file_path)\n",
    "    elif file_path.endswith('.docx'):\n",
    "        return read_docx(file_path)\n",
    "    elif file_path.endswith('.pdf'):\n",
    "        try:\n",
    "            return read_pdf(file_path)\n",
    "        except:\n",
    "            return read_pdfplumber(file_path)\n",
    "    else:\n",
    "        raise ValueError(\"Unsupported file format\")"
   ]
  },
  {
   "cell_type": "code",
   "execution_count": 10,
   "id": "ff8fe46d",
   "metadata": {},
   "outputs": [
    {
     "name": "stdout",
     "output_type": "stream",
     "text": [
      "\n"
     ]
    }
   ],
   "source": [
    "job_description = input()"
   ]
  },
  {
   "cell_type": "code",
   "execution_count": 11,
   "id": "0981d524",
   "metadata": {},
   "outputs": [
    {
     "name": "stdout",
     "output_type": "stream",
     "text": [
      "\n"
     ]
    }
   ],
   "source": [
    "filed=input()"
   ]
  },
  {
   "cell_type": "code",
   "execution_count": null,
   "id": "65d7bcfc",
   "metadata": {},
   "outputs": [],
   "source": [
    "ranked_resumes = rank_resumes(resumes, job_description)"
   ]
  },
  {
   "cell_type": "code",
   "execution_count": null,
   "id": "500f1db9",
   "metadata": {},
   "outputs": [],
   "source": [
    "for idx, (resume, score) in enumerate(ranked_resumes, start=1):\n",
    "    print(f\"Rank {idx}: Similarity Score: {score:.2f}\\n{resume}\\n\")"
   ]
  },
  {
   "cell_type": "code",
   "execution_count": null,
   "id": "40ca3cfa",
   "metadata": {},
   "outputs": [],
   "source": []
  }
 ],
 "metadata": {
  "kernelspec": {
   "display_name": "Python 3",
   "language": "python",
   "name": "python3"
  },
  "language_info": {
   "codemirror_mode": {
    "name": "ipython",
    "version": 3
   },
   "file_extension": ".py",
   "mimetype": "text/x-python",
   "name": "python",
   "nbconvert_exporter": "python",
   "pygments_lexer": "ipython3",
   "version": "3.8.8"
  }
 },
 "nbformat": 4,
 "nbformat_minor": 5
}
